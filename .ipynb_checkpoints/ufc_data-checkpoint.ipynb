{
 "cells": [
  {
   "cell_type": "code",
   "execution_count": 1,
   "id": "f9eaa26b",
   "metadata": {},
   "outputs": [],
   "source": [
    "import pickle\n",
    "\n",
    "import requests\n",
    "from requests.adapters import HTTPAdapter\n",
    "from urllib3.util.retry import Retry\n",
    "from bs4 import BeautifulSoup\n",
    "\n",
    "import plotly.graph_objects as go\n",
    "\n",
    "import pandas as pd\n",
    "\n",
    "from datetime import datetime, timedelta"
   ]
  },
  {
   "cell_type": "code",
   "execution_count": 2,
   "id": "bab27c3b",
   "metadata": {},
   "outputs": [],
   "source": [
    "# All_fight_data = [Events] Ordered from old -> new.\n",
    "    # Event = [Fights, Date, Venue]\n",
    "        # Fight = [Fighter1, Fighter2, Result]\n",
    "            # Fighter1, Fighter2 = [Name, Total, Strikes]\n",
    "                # Totals = [Total, First, Second, Third, Fourth, Fifth]\n",
    "                    # Total, First, etc = [Knockdowns, Takedowns, Reversals, Submission Attempted, Control Time]\n",
    "                        # Takedowns = [Landed, Attempted]\n",
    "                # Strikes = [Total, First, Second, Third, Fourth, Fifth]\n",
    "                    # Total, First, etc = [Significant Strikes, Head, Body, Leg, Distance, Clinch, Ground]\n",
    "                        # Everything = [Landed, Attempted]\n",
    "            # Result = [Winner, Method, Round, Time, Referee, Weight, Bonus, Details]"
   ]
  },
  {
   "cell_type": "code",
   "execution_count": 109,
   "id": "eef4fe8b",
   "metadata": {},
   "outputs": [],
   "source": [
    "save_data(all_f_data, 'all_f_data')\n",
    "save_data(all_r_data, 'all_r_data')"
   ]
  },
  {
   "cell_type": "code",
   "execution_count": 3,
   "id": "87ce8dd3",
   "metadata": {},
   "outputs": [],
   "source": [
    "def open_data(name):\n",
    "    with open(name, \"rb\") as fp:\n",
    "        return pickle.load(fp)"
   ]
  },
  {
   "cell_type": "code",
   "execution_count": 4,
   "id": "613f2f4c",
   "metadata": {},
   "outputs": [],
   "source": [
    "def save_data(data, name):\n",
    "    with open(name, \"wb\") as fp:\n",
    "        pickle.dump(data, fp)"
   ]
  },
  {
   "cell_type": "code",
   "execution_count": 5,
   "id": "2add9ed1",
   "metadata": {},
   "outputs": [],
   "source": [
    "def all_fighter_names(data):\n",
    "    all_names = []\n",
    "    for event in data:\n",
    "        for fight in event[0]:\n",
    "            if fight[0][0] not in all_names:\n",
    "                all_names.append(fight[0][0])\n",
    "                \n",
    "            if fight[1][0] not in all_names:\n",
    "                all_names.append(fight[1][0])\n",
    "    return all_names"
   ]
  },
  {
   "cell_type": "code",
   "execution_count": 6,
   "id": "57af4086",
   "metadata": {},
   "outputs": [],
   "source": [
    "def all_referee_names(data):\n",
    "    all_names = []\n",
    "    for event in data:\n",
    "        for fight in event[0]:\n",
    "            if fight[2][4] not in all_names:\n",
    "                all_names.append(fight[2][4])\n",
    "    \n",
    "    return all_names"
   ]
  },
  {
   "cell_type": "code",
   "execution_count": 72,
   "id": "59725c2c",
   "metadata": {},
   "outputs": [],
   "source": [
    "def convert_date(date):\n",
    "    months = ['January', 'February', 'March', 'April', 'May', 'June', 'July', 'August', 'September', 'October', 'November', 'December']\n",
    "    month = date.split(' ')[0]\n",
    "    month = months.index(month) + 1\n",
    "    \n",
    "    day = int(date.split(',')[0].split(' ')[1])\n",
    "    year = int(date.split(', ')[1])\n",
    "    date = datetime(year, month, day)\n",
    "    return date"
   ]
  },
  {
   "cell_type": "code",
   "execution_count": 147,
   "id": "2f62ed38",
   "metadata": {},
   "outputs": [],
   "source": [
    "weight = [\"Heavyweight\", \"Light Heavyweight\", \"Middleweight\", \"Welterweight\", \"Lightweight\", \"Featherweight\", \n",
    "          \"Bantamweight\", \"Flyweight\", \"Women's Bantamweight\", \"Women's Strawweight\", \"Women's Flyweight\", \n",
    "          \"Women's Featherweight\", \"Open Weight\", \"Super Heavyweight\", \"Catch Weight\"]\n",
    "\n",
    "def fighter_data(data, name):\n",
    "    # count = [\"Winlose Score\",\"Finish Score\", \"Finish Rate\", ko, submission, decision, wins, losses, draws, knockdowns, \n",
    "    #          takedowns landed, takedowns attempted, reversals, submission attempted, control time, weight]\n",
    "    count = [0 for i in range(16)]\n",
    "    # Strikes = [Significant Strikes, Attempted Strikes, Accuracy, Head, Body, Leg, Distance, Clinch, Ground]\n",
    "    strikes = [0 for i in range(9)]\n",
    "    count[14] = timedelta()\n",
    "    count[15] = 'Unspecified'\n",
    "    \n",
    "    all_data = []\n",
    "\n",
    "    \n",
    "    for event in data:\n",
    "        for fight in event[0]:\n",
    "            winner = fight[2][0]\n",
    "\n",
    "            fighters = [fight[0][0], fight[1][0]]\n",
    "            if name in fighters:\n",
    "                index = fighters.index(name)\n",
    "                \n",
    "                if fight[index][1] != []:\n",
    "                    total = fight[index][1][0]\n",
    "                    \n",
    "                    if fight[2][1] == 'KO/TKO':\n",
    "                        count[2] += 1\n",
    "                    elif fight[2][1] == 'Submission':\n",
    "                        count[2] += 1\n",
    "                    else:\n",
    "                        count[2] -= 1\n",
    "\n",
    "                    count[9] += total[0]\n",
    "                    count[10] += total[1][0]\n",
    "                    count[11] += total[1][0]\n",
    "                    count[12] += total[2]\n",
    "                    count[13] += total[3]\n",
    "                    \n",
    "                    if total[4] != '--':\n",
    "                        time = datetime.strptime(total[4], '%M:%S').time()\n",
    "                    else:\n",
    "                        time = datetime.strptime('00:00', '%M:%S').time()\n",
    "                    \n",
    "                    delta = timedelta(minutes=time.minute, seconds=time.second)\n",
    "                    count[14] += delta\n",
    "                    \n",
    "                    for w in weight[::-1]:\n",
    "                        if w in fight[2][5]:\n",
    "                            count[15] = w\n",
    "                            break\n",
    "                            \n",
    "                    if count[15] not in weight:\n",
    "                        count[15] = 'Unspecified'\n",
    "                    \n",
    "                    # Total, First, etc = [Significant Strikes, Head, Body, Leg, Distance, Clinch, Ground]\n",
    "                        # Everything = [Landed, Attempted]\n",
    "                    strike_list = [item for sublist in fight[index][2][0] for item in sublist]\n",
    "                    strikes[0] += strike_list[0]\n",
    "                    strikes[1] += strike_list[1]\n",
    "                    if strikes[0] != 0 and strikes[1] != 0:\n",
    "                        strikes[2] = round(strikes[0]/strikes[1] * 100, 2)\n",
    "                        \n",
    "                    strikes[3] += strike_list[2]\n",
    "                    strikes[4] += strike_list[4]\n",
    "                    strikes[5] += strike_list[6]\n",
    "                    strikes[6] += strike_list[8]\n",
    "                    strikes[7] += strike_list[10]\n",
    "                    strikes[8] += strike_list[12]\n",
    "\n",
    "                if fight[winner][0] == name:\n",
    "                    count[0] += 1\n",
    "                    count[6] += 1\n",
    "\n",
    "                    if fight[2][1] == 'KO/TKO':\n",
    "                        count[3] += 1\n",
    "                        count[1] += 1\n",
    "                    elif fight[2][1] == 'Submission':\n",
    "                        count[4] += 1\n",
    "                        count[1] += 1\n",
    "                    else:\n",
    "                        count[5] += 1\n",
    "                        count[1] -= 1\n",
    "\n",
    "                elif winner == 2:\n",
    "                    count[8] += 1\n",
    "                else:\n",
    "                    count[0] -= 1\n",
    "                    count[7] += 1\n",
    "                \n",
    "                data = [name, convert_date(event[1])] + count + strikes\n",
    "                all_data.append(data)\n",
    "                \n",
    "    \n",
    "    return all_data"
   ]
  },
  {
   "cell_type": "code",
   "execution_count": 158,
   "id": "6ba84bfc",
   "metadata": {},
   "outputs": [],
   "source": [
    "def fighter_data_per_fight(data, name):\n",
    "# win = 0 for win, 1 for loss, 2 for other.\n",
    "# [\"Name\", \"Date\", \"Opponent\", \"Weight\", \"Win\", \"Knockdowns\", \"Takedowns Landed\", \"Takedowns Attempted\", \"Reversals\", \n",
    "#  \"Submission Attempted\", \"Control Time\", \"Significant Strikes\", \"Attempted Strikes\", \"Accuracy\", \n",
    "#  \"Head\", \"Body\", \"Leg\", \"Distance\", \"Clinch\", \"Ground\"] \n",
    "    all_data = []\n",
    "    # Opponent\", \"Weight\", \"Win\", \"Method\"\n",
    "    general_info = []\n",
    "    # \"Knockdowns\", \"Takedowns Landed\", \"Takedowns Attempted\", \"Reversals\", \"Submission Attempted\", \"Control Time\"\n",
    "    other = []\n",
    "    # \"Significant Strikes\", \"Attempted Strikes\", \"Accuracy\", \"Head\", \"Body\", \"Leg\", \"Distance\", \"Clinch\", \"Ground\"\n",
    "    strikes = []\n",
    "\n",
    "    \n",
    "    for event in data:\n",
    "        for fight in event[0]:\n",
    "            winner = fight[2][0]\n",
    "\n",
    "            fighters = [fight[0][0], fight[1][0]]\n",
    "            general_info = []\n",
    "            other = []\n",
    "            strikes = []\n",
    "            if name in fighters:\n",
    "                index = fighters.index(name)\n",
    "                fighters.remove(name)\n",
    "                \n",
    "                general_info.append(fighters[0])\n",
    "                \n",
    "                for w in weight[::-1]:\n",
    "                    if w in fight[2][5]:\n",
    "                        general_info.append(w)\n",
    "                        break\n",
    "                \n",
    "                \n",
    "                if fight[index][1] != []:\n",
    "                    other.append(fight[index][1][0][0])\n",
    "                    other.append(fight[index][1][0][1][0])\n",
    "                    other.append(fight[index][1][0][1][1])\n",
    "                    other.append(fight[index][1][0][2])\n",
    "                    other.append(fight[index][1][0][3])\n",
    "                    \n",
    "                    if fight[index][1][0][4] != '--':\n",
    "                        time = datetime.strptime(fight[index][1][0][4], '%M:%S').time()\n",
    "                    else:\n",
    "                        time = datetime.strptime('00:00', '%M:%S').time()\n",
    "                    \n",
    "                    delta = timedelta(minutes=time.minute, seconds=time.second)\n",
    "                    \n",
    "                    if delta == None:\n",
    "                        print(name, delta)\n",
    "                    \n",
    "                    other.append(delta)\n",
    "                    \n",
    "                    strike_list = [item for sublist in fight[index][2][0] for item in sublist]\n",
    "                    \n",
    "                    strikes.append(strike_list[0])\n",
    "                    strikes.append(strike_list[1])\n",
    "                    if strikes[0] != 0 and strikes[1] != 0:\n",
    "                        strikes.append(round(strikes[0]/strikes[1] * 100, 2))\n",
    "                    else:\n",
    "                        strikes.append(0)\n",
    "                        \n",
    "                    strikes.append(strike_list[2])\n",
    "                    strikes.append(strike_list[4])\n",
    "                    strikes.append(strike_list[6])\n",
    "                    strikes.append(strike_list[8])\n",
    "                    strikes.append(strike_list[10])\n",
    "                    strikes.append(strike_list[12])\n",
    "  \n",
    "                if fight[winner][0] == name:\n",
    "                    general_info.append(0)\n",
    "                elif winner == 2:\n",
    "                    general_info.append(2)\n",
    "                else:\n",
    "                    general_info.append(1)\n",
    "                \n",
    "                data = [name, convert_date(event[1])] + general_info + other + strikes\n",
    "                all_data.append(data)\n",
    "                \n",
    "    \n",
    "    return all_data"
   ]
  },
  {
   "cell_type": "code",
   "execution_count": 154,
   "id": "57f4b5c7",
   "metadata": {},
   "outputs": [],
   "source": [
    "def referee_data(data, name):\n",
    "    # count = [ko, submission, decision, finish score, weight]\n",
    "    count = [0 for i in range(5)]\n",
    "    count[4] = 'Unspecified'\n",
    "    all_data = []\n",
    "    \n",
    "    for event in data:\n",
    "        for fight in event[0]:\n",
    "            if name == fight[2][4]:\n",
    "                \n",
    "                for w in weight[::-1]:\n",
    "                    if w in fight[2][5]:\n",
    "                        count[4] = w\n",
    "                        break\n",
    "\n",
    "                if count[4] not in weight:\n",
    "                    count[4] = 'Unspecified'\n",
    "                    \n",
    "                if fight[2][1] == 'KO/TKO':\n",
    "                    count[0] += 1\n",
    "                    count[3] += 1\n",
    "                elif fight[2][1] == 'Submission':\n",
    "                    count[1] += 1\n",
    "                    count[3] += 1\n",
    "                else:\n",
    "                    count[2] += 1\n",
    "                    count[3] -= 1\n",
    "            \n",
    "                data = [name, convert_date(event[1])] + count\n",
    "                all_data.append(data)\n",
    "    \n",
    "    return all_data"
   ]
  },
  {
   "cell_type": "code",
   "execution_count": 159,
   "id": "585da4f6",
   "metadata": {},
   "outputs": [],
   "source": [
    "all_fight_data = open_data('all_fight_data')\n",
    "all_f_names = all_fighter_names(all_fight_data)\n",
    "all_f_data = [fighter_data(all_fight_data, name) for name in all_f_names]\n",
    "all_f_data = [item for sublist in all_f_data for item in sublist]\n",
    "\n",
    "all_r_names = all_referee_names(all_fight_data)\n",
    "all_r_data = [referee_data(all_fight_data, name) for name in all_r_names]\n",
    "all_r_data = [item for sublist in all_r_data for item in sublist]\n",
    "\n",
    "all_f_data_per_fight = [fighter_data_per_fight(all_fight_data, name) for name in all_f_names]\n",
    "all_f_data_per_fight = [item for sublist in all_f_data_per_fight for item in sublist]"
   ]
  },
  {
   "cell_type": "code",
   "execution_count": 156,
   "id": "0903da5f",
   "metadata": {},
   "outputs": [],
   "source": [
    "save_data(all_f_data, 'all_f_data')\n",
    "save_data(all_r_data, 'all_r_data')\n",
    "\n",
    "save_data(all_f_data_per_fight, 'all_f_data_pf')"
   ]
  },
  {
   "cell_type": "code",
   "execution_count": 144,
   "id": "f34be3f2",
   "metadata": {},
   "outputs": [],
   "source": [
    "structure_r = [\"Name\", \"Date\", \"KO/TKO\", \"Submission\", \"Decision\", \"Finish score\"]\n",
    "structure_f = [\"Name\", \"Date\", \"Winlose Score\",\"Finish Score\", \"Finish Rate\", \"KO/TKO\", \"Submission\", \"Decision\", \"Wins\", \"Losses\", \"Draws/NCs\",\"Knockdowns\", \"Takedowns Landed\", \"Takedowns Attempted\", \"Reversals\", \"Submission Attempted\", \"Control Time\", \"Weight\",\"Significant Strikes\", \"Attempted Strikes\", \"Accuracy\", \"Head\", \"Body\", \"Leg\", \"Distance\", \"Clinch\", \"Ground\"]\n",
    "structure_f_pf = [\"Name\", \"Date\", \"Opponent\", \"Weight\", \"Win\", \"Knockdowns\", \"Takedowns Landed\", \"Takedowns Attempted\", \"Reversals\", \"Submission Attempted\", \"Control Time\", \"Significant Strikes\", \"Attempted Strikes\", \"Accuracy\", \"Head\", \"Body\", \"Leg\", \"Distance\", \"Clinch\", \"Ground\"] \n"
   ]
  },
  {
   "cell_type": "code",
   "execution_count": 146,
   "id": "60e54fd3",
   "metadata": {},
   "outputs": [
    {
     "data": {
      "application/vnd.plotly.v1+json": {
       "config": {
        "plotlyServerURL": "https://plot.ly"
       },
       "data": [
        {
         "hovertemplate": "Name=Jon Jones <br>Date=%{x}<br>Knockdowns=%{y}<extra></extra>",
         "legendgroup": "Jon Jones ",
         "line": {
          "color": "#636efa",
          "dash": "solid"
         },
         "marker": {
          "symbol": "circle"
         },
         "mode": "lines",
         "name": "Jon Jones ",
         "orientation": "v",
         "showlegend": true,
         "type": "scatter",
         "x": [
          "2008-08-09T00:00:00",
          "2009-01-31T00:00:00",
          "2009-07-11T00:00:00",
          "2009-12-05T00:00:00",
          "2010-03-21T00:00:00",
          "2010-08-01T00:00:00",
          "2011-02-05T00:00:00",
          "2011-03-19T00:00:00",
          "2011-09-24T00:00:00",
          "2011-12-10T00:00:00",
          "2012-04-21T00:00:00",
          "2012-09-22T00:00:00",
          "2013-04-27T00:00:00",
          "2013-09-21T00:00:00",
          "2014-04-26T00:00:00",
          "2015-01-03T00:00:00",
          "2016-04-23T00:00:00",
          "2018-12-29T00:00:00",
          "2019-03-02T00:00:00",
          "2019-07-06T00:00:00",
          "2020-02-08T00:00:00"
         ],
         "xaxis": "x",
         "y": [
          0,
          1,
          1,
          1,
          1,
          1,
          1,
          2,
          2,
          3,
          3,
          4,
          4,
          4,
          4,
          4,
          4,
          4,
          4,
          4,
          4
         ],
         "yaxis": "y"
        }
       ],
       "layout": {
        "legend": {
         "title": {
          "text": "Name"
         },
         "tracegroupgap": 0
        },
        "margin": {
         "t": 60
        },
        "showlegend": false,
        "template": {
         "data": {
          "bar": [
           {
            "error_x": {
             "color": "#2a3f5f"
            },
            "error_y": {
             "color": "#2a3f5f"
            },
            "marker": {
             "line": {
              "color": "#E5ECF6",
              "width": 0.5
             },
             "pattern": {
              "fillmode": "overlay",
              "size": 10,
              "solidity": 0.2
             }
            },
            "type": "bar"
           }
          ],
          "barpolar": [
           {
            "marker": {
             "line": {
              "color": "#E5ECF6",
              "width": 0.5
             },
             "pattern": {
              "fillmode": "overlay",
              "size": 10,
              "solidity": 0.2
             }
            },
            "type": "barpolar"
           }
          ],
          "carpet": [
           {
            "aaxis": {
             "endlinecolor": "#2a3f5f",
             "gridcolor": "white",
             "linecolor": "white",
             "minorgridcolor": "white",
             "startlinecolor": "#2a3f5f"
            },
            "baxis": {
             "endlinecolor": "#2a3f5f",
             "gridcolor": "white",
             "linecolor": "white",
             "minorgridcolor": "white",
             "startlinecolor": "#2a3f5f"
            },
            "type": "carpet"
           }
          ],
          "choropleth": [
           {
            "colorbar": {
             "outlinewidth": 0,
             "ticks": ""
            },
            "type": "choropleth"
           }
          ],
          "contour": [
           {
            "colorbar": {
             "outlinewidth": 0,
             "ticks": ""
            },
            "colorscale": [
             [
              0,
              "#0d0887"
             ],
             [
              0.1111111111111111,
              "#46039f"
             ],
             [
              0.2222222222222222,
              "#7201a8"
             ],
             [
              0.3333333333333333,
              "#9c179e"
             ],
             [
              0.4444444444444444,
              "#bd3786"
             ],
             [
              0.5555555555555556,
              "#d8576b"
             ],
             [
              0.6666666666666666,
              "#ed7953"
             ],
             [
              0.7777777777777778,
              "#fb9f3a"
             ],
             [
              0.8888888888888888,
              "#fdca26"
             ],
             [
              1,
              "#f0f921"
             ]
            ],
            "type": "contour"
           }
          ],
          "contourcarpet": [
           {
            "colorbar": {
             "outlinewidth": 0,
             "ticks": ""
            },
            "type": "contourcarpet"
           }
          ],
          "heatmap": [
           {
            "colorbar": {
             "outlinewidth": 0,
             "ticks": ""
            },
            "colorscale": [
             [
              0,
              "#0d0887"
             ],
             [
              0.1111111111111111,
              "#46039f"
             ],
             [
              0.2222222222222222,
              "#7201a8"
             ],
             [
              0.3333333333333333,
              "#9c179e"
             ],
             [
              0.4444444444444444,
              "#bd3786"
             ],
             [
              0.5555555555555556,
              "#d8576b"
             ],
             [
              0.6666666666666666,
              "#ed7953"
             ],
             [
              0.7777777777777778,
              "#fb9f3a"
             ],
             [
              0.8888888888888888,
              "#fdca26"
             ],
             [
              1,
              "#f0f921"
             ]
            ],
            "type": "heatmap"
           }
          ],
          "heatmapgl": [
           {
            "colorbar": {
             "outlinewidth": 0,
             "ticks": ""
            },
            "colorscale": [
             [
              0,
              "#0d0887"
             ],
             [
              0.1111111111111111,
              "#46039f"
             ],
             [
              0.2222222222222222,
              "#7201a8"
             ],
             [
              0.3333333333333333,
              "#9c179e"
             ],
             [
              0.4444444444444444,
              "#bd3786"
             ],
             [
              0.5555555555555556,
              "#d8576b"
             ],
             [
              0.6666666666666666,
              "#ed7953"
             ],
             [
              0.7777777777777778,
              "#fb9f3a"
             ],
             [
              0.8888888888888888,
              "#fdca26"
             ],
             [
              1,
              "#f0f921"
             ]
            ],
            "type": "heatmapgl"
           }
          ],
          "histogram": [
           {
            "marker": {
             "pattern": {
              "fillmode": "overlay",
              "size": 10,
              "solidity": 0.2
             }
            },
            "type": "histogram"
           }
          ],
          "histogram2d": [
           {
            "colorbar": {
             "outlinewidth": 0,
             "ticks": ""
            },
            "colorscale": [
             [
              0,
              "#0d0887"
             ],
             [
              0.1111111111111111,
              "#46039f"
             ],
             [
              0.2222222222222222,
              "#7201a8"
             ],
             [
              0.3333333333333333,
              "#9c179e"
             ],
             [
              0.4444444444444444,
              "#bd3786"
             ],
             [
              0.5555555555555556,
              "#d8576b"
             ],
             [
              0.6666666666666666,
              "#ed7953"
             ],
             [
              0.7777777777777778,
              "#fb9f3a"
             ],
             [
              0.8888888888888888,
              "#fdca26"
             ],
             [
              1,
              "#f0f921"
             ]
            ],
            "type": "histogram2d"
           }
          ],
          "histogram2dcontour": [
           {
            "colorbar": {
             "outlinewidth": 0,
             "ticks": ""
            },
            "colorscale": [
             [
              0,
              "#0d0887"
             ],
             [
              0.1111111111111111,
              "#46039f"
             ],
             [
              0.2222222222222222,
              "#7201a8"
             ],
             [
              0.3333333333333333,
              "#9c179e"
             ],
             [
              0.4444444444444444,
              "#bd3786"
             ],
             [
              0.5555555555555556,
              "#d8576b"
             ],
             [
              0.6666666666666666,
              "#ed7953"
             ],
             [
              0.7777777777777778,
              "#fb9f3a"
             ],
             [
              0.8888888888888888,
              "#fdca26"
             ],
             [
              1,
              "#f0f921"
             ]
            ],
            "type": "histogram2dcontour"
           }
          ],
          "mesh3d": [
           {
            "colorbar": {
             "outlinewidth": 0,
             "ticks": ""
            },
            "type": "mesh3d"
           }
          ],
          "parcoords": [
           {
            "line": {
             "colorbar": {
              "outlinewidth": 0,
              "ticks": ""
             }
            },
            "type": "parcoords"
           }
          ],
          "pie": [
           {
            "automargin": true,
            "type": "pie"
           }
          ],
          "scatter": [
           {
            "marker": {
             "colorbar": {
              "outlinewidth": 0,
              "ticks": ""
             }
            },
            "type": "scatter"
           }
          ],
          "scatter3d": [
           {
            "line": {
             "colorbar": {
              "outlinewidth": 0,
              "ticks": ""
             }
            },
            "marker": {
             "colorbar": {
              "outlinewidth": 0,
              "ticks": ""
             }
            },
            "type": "scatter3d"
           }
          ],
          "scattercarpet": [
           {
            "marker": {
             "colorbar": {
              "outlinewidth": 0,
              "ticks": ""
             }
            },
            "type": "scattercarpet"
           }
          ],
          "scattergeo": [
           {
            "marker": {
             "colorbar": {
              "outlinewidth": 0,
              "ticks": ""
             }
            },
            "type": "scattergeo"
           }
          ],
          "scattergl": [
           {
            "marker": {
             "colorbar": {
              "outlinewidth": 0,
              "ticks": ""
             }
            },
            "type": "scattergl"
           }
          ],
          "scattermapbox": [
           {
            "marker": {
             "colorbar": {
              "outlinewidth": 0,
              "ticks": ""
             }
            },
            "type": "scattermapbox"
           }
          ],
          "scatterpolar": [
           {
            "marker": {
             "colorbar": {
              "outlinewidth": 0,
              "ticks": ""
             }
            },
            "type": "scatterpolar"
           }
          ],
          "scatterpolargl": [
           {
            "marker": {
             "colorbar": {
              "outlinewidth": 0,
              "ticks": ""
             }
            },
            "type": "scatterpolargl"
           }
          ],
          "scatterternary": [
           {
            "marker": {
             "colorbar": {
              "outlinewidth": 0,
              "ticks": ""
             }
            },
            "type": "scatterternary"
           }
          ],
          "surface": [
           {
            "colorbar": {
             "outlinewidth": 0,
             "ticks": ""
            },
            "colorscale": [
             [
              0,
              "#0d0887"
             ],
             [
              0.1111111111111111,
              "#46039f"
             ],
             [
              0.2222222222222222,
              "#7201a8"
             ],
             [
              0.3333333333333333,
              "#9c179e"
             ],
             [
              0.4444444444444444,
              "#bd3786"
             ],
             [
              0.5555555555555556,
              "#d8576b"
             ],
             [
              0.6666666666666666,
              "#ed7953"
             ],
             [
              0.7777777777777778,
              "#fb9f3a"
             ],
             [
              0.8888888888888888,
              "#fdca26"
             ],
             [
              1,
              "#f0f921"
             ]
            ],
            "type": "surface"
           }
          ],
          "table": [
           {
            "cells": {
             "fill": {
              "color": "#EBF0F8"
             },
             "line": {
              "color": "white"
             }
            },
            "header": {
             "fill": {
              "color": "#C8D4E3"
             },
             "line": {
              "color": "white"
             }
            },
            "type": "table"
           }
          ]
         },
         "layout": {
          "annotationdefaults": {
           "arrowcolor": "#2a3f5f",
           "arrowhead": 0,
           "arrowwidth": 1
          },
          "autotypenumbers": "strict",
          "coloraxis": {
           "colorbar": {
            "outlinewidth": 0,
            "ticks": ""
           }
          },
          "colorscale": {
           "diverging": [
            [
             0,
             "#8e0152"
            ],
            [
             0.1,
             "#c51b7d"
            ],
            [
             0.2,
             "#de77ae"
            ],
            [
             0.3,
             "#f1b6da"
            ],
            [
             0.4,
             "#fde0ef"
            ],
            [
             0.5,
             "#f7f7f7"
            ],
            [
             0.6,
             "#e6f5d0"
            ],
            [
             0.7,
             "#b8e186"
            ],
            [
             0.8,
             "#7fbc41"
            ],
            [
             0.9,
             "#4d9221"
            ],
            [
             1,
             "#276419"
            ]
           ],
           "sequential": [
            [
             0,
             "#0d0887"
            ],
            [
             0.1111111111111111,
             "#46039f"
            ],
            [
             0.2222222222222222,
             "#7201a8"
            ],
            [
             0.3333333333333333,
             "#9c179e"
            ],
            [
             0.4444444444444444,
             "#bd3786"
            ],
            [
             0.5555555555555556,
             "#d8576b"
            ],
            [
             0.6666666666666666,
             "#ed7953"
            ],
            [
             0.7777777777777778,
             "#fb9f3a"
            ],
            [
             0.8888888888888888,
             "#fdca26"
            ],
            [
             1,
             "#f0f921"
            ]
           ],
           "sequentialminus": [
            [
             0,
             "#0d0887"
            ],
            [
             0.1111111111111111,
             "#46039f"
            ],
            [
             0.2222222222222222,
             "#7201a8"
            ],
            [
             0.3333333333333333,
             "#9c179e"
            ],
            [
             0.4444444444444444,
             "#bd3786"
            ],
            [
             0.5555555555555556,
             "#d8576b"
            ],
            [
             0.6666666666666666,
             "#ed7953"
            ],
            [
             0.7777777777777778,
             "#fb9f3a"
            ],
            [
             0.8888888888888888,
             "#fdca26"
            ],
            [
             1,
             "#f0f921"
            ]
           ]
          },
          "colorway": [
           "#636efa",
           "#EF553B",
           "#00cc96",
           "#ab63fa",
           "#FFA15A",
           "#19d3f3",
           "#FF6692",
           "#B6E880",
           "#FF97FF",
           "#FECB52"
          ],
          "font": {
           "color": "#2a3f5f"
          },
          "geo": {
           "bgcolor": "white",
           "lakecolor": "white",
           "landcolor": "#E5ECF6",
           "showlakes": true,
           "showland": true,
           "subunitcolor": "white"
          },
          "hoverlabel": {
           "align": "left"
          },
          "hovermode": "closest",
          "mapbox": {
           "style": "light"
          },
          "paper_bgcolor": "white",
          "plot_bgcolor": "#E5ECF6",
          "polar": {
           "angularaxis": {
            "gridcolor": "white",
            "linecolor": "white",
            "ticks": ""
           },
           "bgcolor": "#E5ECF6",
           "radialaxis": {
            "gridcolor": "white",
            "linecolor": "white",
            "ticks": ""
           }
          },
          "scene": {
           "xaxis": {
            "backgroundcolor": "#E5ECF6",
            "gridcolor": "white",
            "gridwidth": 2,
            "linecolor": "white",
            "showbackground": true,
            "ticks": "",
            "zerolinecolor": "white"
           },
           "yaxis": {
            "backgroundcolor": "#E5ECF6",
            "gridcolor": "white",
            "gridwidth": 2,
            "linecolor": "white",
            "showbackground": true,
            "ticks": "",
            "zerolinecolor": "white"
           },
           "zaxis": {
            "backgroundcolor": "#E5ECF6",
            "gridcolor": "white",
            "gridwidth": 2,
            "linecolor": "white",
            "showbackground": true,
            "ticks": "",
            "zerolinecolor": "white"
           }
          },
          "shapedefaults": {
           "line": {
            "color": "#2a3f5f"
           }
          },
          "ternary": {
           "aaxis": {
            "gridcolor": "white",
            "linecolor": "white",
            "ticks": ""
           },
           "baxis": {
            "gridcolor": "white",
            "linecolor": "white",
            "ticks": ""
           },
           "bgcolor": "#E5ECF6",
           "caxis": {
            "gridcolor": "white",
            "linecolor": "white",
            "ticks": ""
           }
          },
          "title": {
           "x": 0.05
          },
          "xaxis": {
           "automargin": true,
           "gridcolor": "white",
           "linecolor": "white",
           "ticks": "",
           "title": {
            "standoff": 15
           },
           "zerolinecolor": "white",
           "zerolinewidth": 2
          },
          "yaxis": {
           "automargin": true,
           "gridcolor": "white",
           "linecolor": "white",
           "ticks": "",
           "title": {
            "standoff": 15
           },
           "zerolinecolor": "white",
           "zerolinewidth": 2
          }
         }
        },
        "xaxis": {
         "anchor": "y",
         "domain": [
          0,
          1
         ],
         "title": {
          "text": "Date"
         }
        },
        "yaxis": {
         "anchor": "x",
         "domain": [
          0,
          1
         ],
         "title": {
          "text": "Knockdowns"
         }
        }
       }
      },
      "text/html": [
       "<div>                            <div id=\"59ab97dc-85d3-4825-8447-2e5c190ff0e1\" class=\"plotly-graph-div\" style=\"height:525px; width:100%;\"></div>            <script type=\"text/javascript\">                require([\"plotly\"], function(Plotly) {                    window.PLOTLYENV=window.PLOTLYENV || {};                                    if (document.getElementById(\"59ab97dc-85d3-4825-8447-2e5c190ff0e1\")) {                    Plotly.newPlot(                        \"59ab97dc-85d3-4825-8447-2e5c190ff0e1\",                        [{\"hovertemplate\":\"Name=Jon Jones <br>Date=%{x}<br>Knockdowns=%{y}<extra></extra>\",\"legendgroup\":\"Jon Jones \",\"line\":{\"color\":\"#636efa\",\"dash\":\"solid\"},\"marker\":{\"symbol\":\"circle\"},\"mode\":\"lines\",\"name\":\"Jon Jones \",\"orientation\":\"v\",\"showlegend\":true,\"x\":[\"2008-08-09T00:00:00\",\"2009-01-31T00:00:00\",\"2009-07-11T00:00:00\",\"2009-12-05T00:00:00\",\"2010-03-21T00:00:00\",\"2010-08-01T00:00:00\",\"2011-02-05T00:00:00\",\"2011-03-19T00:00:00\",\"2011-09-24T00:00:00\",\"2011-12-10T00:00:00\",\"2012-04-21T00:00:00\",\"2012-09-22T00:00:00\",\"2013-04-27T00:00:00\",\"2013-09-21T00:00:00\",\"2014-04-26T00:00:00\",\"2015-01-03T00:00:00\",\"2016-04-23T00:00:00\",\"2018-12-29T00:00:00\",\"2019-03-02T00:00:00\",\"2019-07-06T00:00:00\",\"2020-02-08T00:00:00\"],\"xaxis\":\"x\",\"y\":[0,1,1,1,1,1,1,2,2,3,3,4,4,4,4,4,4,4,4,4,4],\"yaxis\":\"y\",\"type\":\"scatter\"}],                        {\"template\":{\"data\":{\"bar\":[{\"error_x\":{\"color\":\"#2a3f5f\"},\"error_y\":{\"color\":\"#2a3f5f\"},\"marker\":{\"line\":{\"color\":\"#E5ECF6\",\"width\":0.5},\"pattern\":{\"fillmode\":\"overlay\",\"size\":10,\"solidity\":0.2}},\"type\":\"bar\"}],\"barpolar\":[{\"marker\":{\"line\":{\"color\":\"#E5ECF6\",\"width\":0.5},\"pattern\":{\"fillmode\":\"overlay\",\"size\":10,\"solidity\":0.2}},\"type\":\"barpolar\"}],\"carpet\":[{\"aaxis\":{\"endlinecolor\":\"#2a3f5f\",\"gridcolor\":\"white\",\"linecolor\":\"white\",\"minorgridcolor\":\"white\",\"startlinecolor\":\"#2a3f5f\"},\"baxis\":{\"endlinecolor\":\"#2a3f5f\",\"gridcolor\":\"white\",\"linecolor\":\"white\",\"minorgridcolor\":\"white\",\"startlinecolor\":\"#2a3f5f\"},\"type\":\"carpet\"}],\"choropleth\":[{\"colorbar\":{\"outlinewidth\":0,\"ticks\":\"\"},\"type\":\"choropleth\"}],\"contour\":[{\"colorbar\":{\"outlinewidth\":0,\"ticks\":\"\"},\"colorscale\":[[0.0,\"#0d0887\"],[0.1111111111111111,\"#46039f\"],[0.2222222222222222,\"#7201a8\"],[0.3333333333333333,\"#9c179e\"],[0.4444444444444444,\"#bd3786\"],[0.5555555555555556,\"#d8576b\"],[0.6666666666666666,\"#ed7953\"],[0.7777777777777778,\"#fb9f3a\"],[0.8888888888888888,\"#fdca26\"],[1.0,\"#f0f921\"]],\"type\":\"contour\"}],\"contourcarpet\":[{\"colorbar\":{\"outlinewidth\":0,\"ticks\":\"\"},\"type\":\"contourcarpet\"}],\"heatmap\":[{\"colorbar\":{\"outlinewidth\":0,\"ticks\":\"\"},\"colorscale\":[[0.0,\"#0d0887\"],[0.1111111111111111,\"#46039f\"],[0.2222222222222222,\"#7201a8\"],[0.3333333333333333,\"#9c179e\"],[0.4444444444444444,\"#bd3786\"],[0.5555555555555556,\"#d8576b\"],[0.6666666666666666,\"#ed7953\"],[0.7777777777777778,\"#fb9f3a\"],[0.8888888888888888,\"#fdca26\"],[1.0,\"#f0f921\"]],\"type\":\"heatmap\"}],\"heatmapgl\":[{\"colorbar\":{\"outlinewidth\":0,\"ticks\":\"\"},\"colorscale\":[[0.0,\"#0d0887\"],[0.1111111111111111,\"#46039f\"],[0.2222222222222222,\"#7201a8\"],[0.3333333333333333,\"#9c179e\"],[0.4444444444444444,\"#bd3786\"],[0.5555555555555556,\"#d8576b\"],[0.6666666666666666,\"#ed7953\"],[0.7777777777777778,\"#fb9f3a\"],[0.8888888888888888,\"#fdca26\"],[1.0,\"#f0f921\"]],\"type\":\"heatmapgl\"}],\"histogram\":[{\"marker\":{\"pattern\":{\"fillmode\":\"overlay\",\"size\":10,\"solidity\":0.2}},\"type\":\"histogram\"}],\"histogram2d\":[{\"colorbar\":{\"outlinewidth\":0,\"ticks\":\"\"},\"colorscale\":[[0.0,\"#0d0887\"],[0.1111111111111111,\"#46039f\"],[0.2222222222222222,\"#7201a8\"],[0.3333333333333333,\"#9c179e\"],[0.4444444444444444,\"#bd3786\"],[0.5555555555555556,\"#d8576b\"],[0.6666666666666666,\"#ed7953\"],[0.7777777777777778,\"#fb9f3a\"],[0.8888888888888888,\"#fdca26\"],[1.0,\"#f0f921\"]],\"type\":\"histogram2d\"}],\"histogram2dcontour\":[{\"colorbar\":{\"outlinewidth\":0,\"ticks\":\"\"},\"colorscale\":[[0.0,\"#0d0887\"],[0.1111111111111111,\"#46039f\"],[0.2222222222222222,\"#7201a8\"],[0.3333333333333333,\"#9c179e\"],[0.4444444444444444,\"#bd3786\"],[0.5555555555555556,\"#d8576b\"],[0.6666666666666666,\"#ed7953\"],[0.7777777777777778,\"#fb9f3a\"],[0.8888888888888888,\"#fdca26\"],[1.0,\"#f0f921\"]],\"type\":\"histogram2dcontour\"}],\"mesh3d\":[{\"colorbar\":{\"outlinewidth\":0,\"ticks\":\"\"},\"type\":\"mesh3d\"}],\"parcoords\":[{\"line\":{\"colorbar\":{\"outlinewidth\":0,\"ticks\":\"\"}},\"type\":\"parcoords\"}],\"pie\":[{\"automargin\":true,\"type\":\"pie\"}],\"scatter\":[{\"marker\":{\"colorbar\":{\"outlinewidth\":0,\"ticks\":\"\"}},\"type\":\"scatter\"}],\"scatter3d\":[{\"line\":{\"colorbar\":{\"outlinewidth\":0,\"ticks\":\"\"}},\"marker\":{\"colorbar\":{\"outlinewidth\":0,\"ticks\":\"\"}},\"type\":\"scatter3d\"}],\"scattercarpet\":[{\"marker\":{\"colorbar\":{\"outlinewidth\":0,\"ticks\":\"\"}},\"type\":\"scattercarpet\"}],\"scattergeo\":[{\"marker\":{\"colorbar\":{\"outlinewidth\":0,\"ticks\":\"\"}},\"type\":\"scattergeo\"}],\"scattergl\":[{\"marker\":{\"colorbar\":{\"outlinewidth\":0,\"ticks\":\"\"}},\"type\":\"scattergl\"}],\"scattermapbox\":[{\"marker\":{\"colorbar\":{\"outlinewidth\":0,\"ticks\":\"\"}},\"type\":\"scattermapbox\"}],\"scatterpolar\":[{\"marker\":{\"colorbar\":{\"outlinewidth\":0,\"ticks\":\"\"}},\"type\":\"scatterpolar\"}],\"scatterpolargl\":[{\"marker\":{\"colorbar\":{\"outlinewidth\":0,\"ticks\":\"\"}},\"type\":\"scatterpolargl\"}],\"scatterternary\":[{\"marker\":{\"colorbar\":{\"outlinewidth\":0,\"ticks\":\"\"}},\"type\":\"scatterternary\"}],\"surface\":[{\"colorbar\":{\"outlinewidth\":0,\"ticks\":\"\"},\"colorscale\":[[0.0,\"#0d0887\"],[0.1111111111111111,\"#46039f\"],[0.2222222222222222,\"#7201a8\"],[0.3333333333333333,\"#9c179e\"],[0.4444444444444444,\"#bd3786\"],[0.5555555555555556,\"#d8576b\"],[0.6666666666666666,\"#ed7953\"],[0.7777777777777778,\"#fb9f3a\"],[0.8888888888888888,\"#fdca26\"],[1.0,\"#f0f921\"]],\"type\":\"surface\"}],\"table\":[{\"cells\":{\"fill\":{\"color\":\"#EBF0F8\"},\"line\":{\"color\":\"white\"}},\"header\":{\"fill\":{\"color\":\"#C8D4E3\"},\"line\":{\"color\":\"white\"}},\"type\":\"table\"}]},\"layout\":{\"annotationdefaults\":{\"arrowcolor\":\"#2a3f5f\",\"arrowhead\":0,\"arrowwidth\":1},\"autotypenumbers\":\"strict\",\"coloraxis\":{\"colorbar\":{\"outlinewidth\":0,\"ticks\":\"\"}},\"colorscale\":{\"diverging\":[[0,\"#8e0152\"],[0.1,\"#c51b7d\"],[0.2,\"#de77ae\"],[0.3,\"#f1b6da\"],[0.4,\"#fde0ef\"],[0.5,\"#f7f7f7\"],[0.6,\"#e6f5d0\"],[0.7,\"#b8e186\"],[0.8,\"#7fbc41\"],[0.9,\"#4d9221\"],[1,\"#276419\"]],\"sequential\":[[0.0,\"#0d0887\"],[0.1111111111111111,\"#46039f\"],[0.2222222222222222,\"#7201a8\"],[0.3333333333333333,\"#9c179e\"],[0.4444444444444444,\"#bd3786\"],[0.5555555555555556,\"#d8576b\"],[0.6666666666666666,\"#ed7953\"],[0.7777777777777778,\"#fb9f3a\"],[0.8888888888888888,\"#fdca26\"],[1.0,\"#f0f921\"]],\"sequentialminus\":[[0.0,\"#0d0887\"],[0.1111111111111111,\"#46039f\"],[0.2222222222222222,\"#7201a8\"],[0.3333333333333333,\"#9c179e\"],[0.4444444444444444,\"#bd3786\"],[0.5555555555555556,\"#d8576b\"],[0.6666666666666666,\"#ed7953\"],[0.7777777777777778,\"#fb9f3a\"],[0.8888888888888888,\"#fdca26\"],[1.0,\"#f0f921\"]]},\"colorway\":[\"#636efa\",\"#EF553B\",\"#00cc96\",\"#ab63fa\",\"#FFA15A\",\"#19d3f3\",\"#FF6692\",\"#B6E880\",\"#FF97FF\",\"#FECB52\"],\"font\":{\"color\":\"#2a3f5f\"},\"geo\":{\"bgcolor\":\"white\",\"lakecolor\":\"white\",\"landcolor\":\"#E5ECF6\",\"showlakes\":true,\"showland\":true,\"subunitcolor\":\"white\"},\"hoverlabel\":{\"align\":\"left\"},\"hovermode\":\"closest\",\"mapbox\":{\"style\":\"light\"},\"paper_bgcolor\":\"white\",\"plot_bgcolor\":\"#E5ECF6\",\"polar\":{\"angularaxis\":{\"gridcolor\":\"white\",\"linecolor\":\"white\",\"ticks\":\"\"},\"bgcolor\":\"#E5ECF6\",\"radialaxis\":{\"gridcolor\":\"white\",\"linecolor\":\"white\",\"ticks\":\"\"}},\"scene\":{\"xaxis\":{\"backgroundcolor\":\"#E5ECF6\",\"gridcolor\":\"white\",\"gridwidth\":2,\"linecolor\":\"white\",\"showbackground\":true,\"ticks\":\"\",\"zerolinecolor\":\"white\"},\"yaxis\":{\"backgroundcolor\":\"#E5ECF6\",\"gridcolor\":\"white\",\"gridwidth\":2,\"linecolor\":\"white\",\"showbackground\":true,\"ticks\":\"\",\"zerolinecolor\":\"white\"},\"zaxis\":{\"backgroundcolor\":\"#E5ECF6\",\"gridcolor\":\"white\",\"gridwidth\":2,\"linecolor\":\"white\",\"showbackground\":true,\"ticks\":\"\",\"zerolinecolor\":\"white\"}},\"shapedefaults\":{\"line\":{\"color\":\"#2a3f5f\"}},\"ternary\":{\"aaxis\":{\"gridcolor\":\"white\",\"linecolor\":\"white\",\"ticks\":\"\"},\"baxis\":{\"gridcolor\":\"white\",\"linecolor\":\"white\",\"ticks\":\"\"},\"bgcolor\":\"#E5ECF6\",\"caxis\":{\"gridcolor\":\"white\",\"linecolor\":\"white\",\"ticks\":\"\"}},\"title\":{\"x\":0.05},\"xaxis\":{\"automargin\":true,\"gridcolor\":\"white\",\"linecolor\":\"white\",\"ticks\":\"\",\"title\":{\"standoff\":15},\"zerolinecolor\":\"white\",\"zerolinewidth\":2},\"yaxis\":{\"automargin\":true,\"gridcolor\":\"white\",\"linecolor\":\"white\",\"ticks\":\"\",\"title\":{\"standoff\":15},\"zerolinecolor\":\"white\",\"zerolinewidth\":2}}},\"xaxis\":{\"anchor\":\"y\",\"domain\":[0.0,1.0],\"title\":{\"text\":\"Date\"}},\"yaxis\":{\"anchor\":\"x\",\"domain\":[0.0,1.0],\"title\":{\"text\":\"Knockdowns\"}},\"legend\":{\"title\":{\"text\":\"Name\"},\"tracegroupgap\":0},\"margin\":{\"t\":60},\"showlegend\":false},                        {\"responsive\": true}                    ).then(function(){\n",
       "                            \n",
       "var gd = document.getElementById('59ab97dc-85d3-4825-8447-2e5c190ff0e1');\n",
       "var x = new MutationObserver(function (mutations, observer) {{\n",
       "        var display = window.getComputedStyle(gd).display;\n",
       "        if (!display || display === 'none') {{\n",
       "            console.log([gd, 'removed!']);\n",
       "            Plotly.purge(gd);\n",
       "            observer.disconnect();\n",
       "        }}\n",
       "}});\n",
       "\n",
       "// Listen for the removal of the full notebook cells\n",
       "var notebookContainer = gd.closest('#notebook-container');\n",
       "if (notebookContainer) {{\n",
       "    x.observe(notebookContainer, {childList: true});\n",
       "}}\n",
       "\n",
       "// Listen for the clearing of the current output cell\n",
       "var outputEl = gd.closest('.output');\n",
       "if (outputEl) {{\n",
       "    x.observe(outputEl, {childList: true});\n",
       "}}\n",
       "\n",
       "                        })                };                });            </script>        </div>"
      ]
     },
     "metadata": {},
     "output_type": "display_data"
    }
   ],
   "source": [
    "import plotly.express as px\n",
    "\n",
    "df = pd.DataFrame(all_f_data, columns=structure_f)\n",
    "df = df[df['Name'].isin(names)]\n",
    "names = ['Jon Jones ']\n",
    "weight = ['Light Heavyweight']\n",
    "df = df[df['Name'].isin(names) & df['Weight'].isin(weight)]\n",
    "\n",
    "fig = px.line(df, x=\"Date\", y=\"Knockdowns\", color=\"Name\")\n",
    "fig.update_layout(showlegend=False)"
   ]
  },
  {
   "cell_type": "code",
   "execution_count": 99,
   "id": "c89bde69",
   "metadata": {},
   "outputs": [
    {
     "data": {
      "text/plain": [
       "5.34"
      ]
     },
     "execution_count": 99,
     "metadata": {},
     "output_type": "execute_result"
    }
   ],
   "source": [
    "round(5.344534, 2)"
   ]
  },
  {
   "cell_type": "code",
   "execution_count": null,
   "id": "1dd23ede",
   "metadata": {},
   "outputs": [],
   "source": []
  }
 ],
 "metadata": {
  "kernelspec": {
   "display_name": "Python 3 (ipykernel)",
   "language": "python",
   "name": "python3"
  },
  "language_info": {
   "codemirror_mode": {
    "name": "ipython",
    "version": 3
   },
   "file_extension": ".py",
   "mimetype": "text/x-python",
   "name": "python",
   "nbconvert_exporter": "python",
   "pygments_lexer": "ipython3",
   "version": "3.9.9"
  }
 },
 "nbformat": 4,
 "nbformat_minor": 5
}
