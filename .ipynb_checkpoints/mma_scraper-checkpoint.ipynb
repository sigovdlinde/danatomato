{
 "cells": [
  {
   "cell_type": "code",
   "execution_count": 1,
   "id": "dccaecbd",
   "metadata": {},
   "outputs": [],
   "source": [
    "from bs4 import BeautifulSoup\n",
    "import requests\n",
    "import time"
   ]
  },
  {
   "cell_type": "code",
   "execution_count": 2,
   "id": "76e0f145",
   "metadata": {},
   "outputs": [],
   "source": [
    "def get_soup(url):\n",
    "    headers = {'User-Agent': \"My User Agent 1.0\"}\n",
    "    re = requests.get(url, headers)\n",
    "    return BeautifulSoup(re.text, features='html.parser')"
   ]
  },
  {
   "cell_type": "code",
   "execution_count": 3,
   "id": "90c05f9c",
   "metadata": {},
   "outputs": [],
   "source": [
    "def get_event_urls(soup):\n",
    "    url_list = []\n",
    "    for data in soup.find_all('section',attrs={'class':'fcListing'}):\n",
    "        link = data.find('a').get('href')\n",
    "        url_list.append(link)\n",
    "        \n",
    "    return url_list"
   ]
  },
  {
   "cell_type": "code",
   "execution_count": 4,
   "id": "0512d9fa",
   "metadata": {},
   "outputs": [],
   "source": [
    "def get_fight_urls_from_event(soup):\n",
    "    url_list = []\n",
    "    for data in soup.find_all('span',attrs={'class':'billing'}):\n",
    "        link = data.find('a').get('href')\n",
    "        url_list.append(link)\n",
    "        \n",
    "    return url_list"
   ]
  },
  {
   "cell_type": "code",
   "execution_count": 5,
   "id": "7e1de053",
   "metadata": {},
   "outputs": [],
   "source": [
    "def get_tapology_predictions(soup):\n",
    "    fight_pred = []\n",
    "    soup = soup.find('div', attrs={'class': 'boutPagePicks'})\n",
    "    for data in soup.find_all('div', attrs={'class': 'fighter_stat_bar'}):\n",
    "        name = data.find('div', attrs={'class': 'stat_label'}).get_text()\n",
    "        number = data.find('div', attrs={'class': 'number'}).get_text().split('%')[0]\n",
    "        if data.find_all(\"div\", {\"class\": \"check wrong\"}):\n",
    "            outcome = 'loss'\n",
    "        else:\n",
    "            outcome = 'win'\n",
    "        fight_pred.append([name, number, outcome])\n",
    "        \n",
    "    return fight_pred"
   ]
  },
  {
   "cell_type": "code",
   "execution_count": null,
   "id": "919d55cb",
   "metadata": {},
   "outputs": [],
   "source": [
    "def main():\n",
    "    url = 'https://www.tapology.com/fightcenter?group=ufc&schedule=results'\n",
    "    soup = get_soup(url)\n",
    "    event_url_list = get_event_urls(soup)\n",
    "    \n",
    "    for event in event_url_list:\n",
    "        event_url = 'https://www.tapology.com' + event\n",
    "        event_soup = get_soup(event_url)\n",
    "        fight_url_list = get_fight_urls_from_event(event_soup)\n",
    "        \n",
    "        print('########################')\n",
    "        for fight in fight_url_list:\n",
    "            print(fight)\n",
    "        print('########################')\n",
    "        \n",
    "        for fight in fight_url_list:\n",
    "            time.sleep(20)\n",
    "            fight_url = 'https://www.tapology.com' + fight\n",
    "            fight_soup = get_soup(fight_url)\n",
    "            fight_pred = get_tapology_predictions(fight_soup)\n",
    "            \n",
    "            print(fight_soup.title)\n",
    "            print(fight_pred)\n",
    "            \n",
    "main()"
   ]
  },
  {
   "cell_type": "code",
   "execution_count": null,
   "id": "26a10f5f",
   "metadata": {},
   "outputs": [],
   "source": [
    "url1 = 'https://www.tapology.com/fightcenter?group=ufc&schedule=results'\n",
    "\n",
    "url2 = 'https://www.tapology.com/fightcenter/events/92365-ufc-fight-night'\n",
    "\n",
    "url3 = 'https://www.tapology.com/fightcenter/bouts/688290-ufc-fight-night-jared-killa-gorilla-cannonier-vs-sean-strickland'\n",
    "\n",
    "soup = get_soup(url2)\n",
    "\n",
    "print(soup.title)\n",
    "print('########')\n",
    "print(get_fight_urls_from_event(soup))"
   ]
  },
  {
   "cell_type": "code",
   "execution_count": 7,
   "id": "1d4d5aa3",
   "metadata": {},
   "outputs": [
    {
     "name": "stdout",
     "output_type": "stream",
     "text": [
      "<title>UFC Fight Night: Cannonier vs. Strickland | MMA Event | Tapology</title>\n",
      "<title>UFC Fight Night: Cannonier vs. Strickland | MMA Event | Tapology</title>\n",
      "<title>WWFC: Izyum Selection | MMA Event | Tapology</title>\n",
      "<title>Gladiator Fighting Arena 3 | MMA Event | Tapology</title>\n",
      "<title>MMA Free Fighting: Russian Cup 2017 | MMA Event | Tapology</title>\n",
      "<title>Fight Stars: Team Challenge 1 | MMA Event | Tapology</title>\n",
      "<title>Kstovo Mix Fight Championship 2009 | MMA Event | Tapology</title>\n",
      "<title>Fusion FN 4: Cage Fight 7 | MMA, Kickboxing, &amp; Muay Thai Event | Tapology</title>\n",
      "<title>UFC Fight Night 3 | MMA Event | Tapology</title>\n"
     ]
    },
    {
     "ename": "KeyboardInterrupt",
     "evalue": "",
     "output_type": "error",
     "traceback": [
      "\u001b[0;31m---------------------------------------------------------------------------\u001b[0m",
      "\u001b[0;31mKeyboardInterrupt\u001b[0m                         Traceback (most recent call last)",
      "\u001b[0;32m/var/folders/_6/mfy4_5j506v97pq1gv_3sj6m0000gn/T/ipykernel_3894/2680514414.py\u001b[0m in \u001b[0;36m<module>\u001b[0;34m\u001b[0m\n\u001b[1;32m      5\u001b[0m     \u001b[0mre\u001b[0m \u001b[0;34m=\u001b[0m \u001b[0mrequests\u001b[0m\u001b[0;34m.\u001b[0m\u001b[0mget\u001b[0m\u001b[0;34m(\u001b[0m\u001b[0murl2\u001b[0m\u001b[0;34m,\u001b[0m \u001b[0mheaders\u001b[0m\u001b[0;34m)\u001b[0m\u001b[0;34m\u001b[0m\u001b[0;34m\u001b[0m\u001b[0m\n\u001b[1;32m      6\u001b[0m     \u001b[0mprint\u001b[0m\u001b[0;34m(\u001b[0m\u001b[0mBeautifulSoup\u001b[0m\u001b[0;34m(\u001b[0m\u001b[0mre\u001b[0m\u001b[0;34m.\u001b[0m\u001b[0mtext\u001b[0m\u001b[0;34m,\u001b[0m \u001b[0mfeatures\u001b[0m\u001b[0;34m=\u001b[0m\u001b[0;34m'html.parser'\u001b[0m\u001b[0;34m)\u001b[0m\u001b[0;34m.\u001b[0m\u001b[0mtitle\u001b[0m\u001b[0;34m)\u001b[0m\u001b[0;34m\u001b[0m\u001b[0;34m\u001b[0m\u001b[0m\n\u001b[0;32m----> 7\u001b[0;31m     \u001b[0mtime\u001b[0m\u001b[0;34m.\u001b[0m\u001b[0msleep\u001b[0m\u001b[0;34m(\u001b[0m\u001b[0;36m1\u001b[0m\u001b[0;34m)\u001b[0m\u001b[0;34m\u001b[0m\u001b[0;34m\u001b[0m\u001b[0m\n\u001b[0m",
      "\u001b[0;31mKeyboardInterrupt\u001b[0m: "
     ]
    }
   ],
   "source": [
    "from bs4 import BeautifulSoup\n",
    "import requests\n",
    "import time\n",
    "\n",
    "url2 = 'https://www.tapology.com/fightcenter/events/92365-ufc-fight-night'\n",
    "headers = {'User-Agent': \"My User Agent 1.0\"}\n",
    "\n",
    "for i in range(20):\n",
    "    re = requests.get(url2, headers)\n",
    "    print(BeautifulSoup(re.text, features='html.parser').title)\n",
    "    time.sleep(1)"
   ]
  },
  {
   "cell_type": "code",
   "execution_count": null,
   "id": "092a796f",
   "metadata": {},
   "outputs": [],
   "source": [
    "url = 'https://www.ufc.com/events#events-list-past'\n",
    "\n",
    "soup = get_soup(url)\n",
    "print(soup.title)"
   ]
  },
  {
   "cell_type": "code",
   "execution_count": null,
   "id": "f6bfb703",
   "metadata": {},
   "outputs": [],
   "source": []
  }
 ],
 "metadata": {
  "kernelspec": {
   "display_name": "Python 3 (ipykernel)",
   "language": "python",
   "name": "python3"
  },
  "language_info": {
   "codemirror_mode": {
    "name": "ipython",
    "version": 3
   },
   "file_extension": ".py",
   "mimetype": "text/x-python",
   "name": "python",
   "nbconvert_exporter": "python",
   "pygments_lexer": "ipython3",
   "version": "3.9.9"
  }
 },
 "nbformat": 4,
 "nbformat_minor": 5
}
