{
 "cells": [
  {
   "cell_type": "code",
   "execution_count": 69,
   "id": "fe31549f",
   "metadata": {},
   "outputs": [],
   "source": [
    "from bs4 import BeautifulSoup\n",
    "from datetime import datetime\n",
    "import requests\n",
    "import time"
   ]
  },
  {
   "cell_type": "code",
   "execution_count": 2,
   "id": "3b5db62e",
   "metadata": {},
   "outputs": [],
   "source": [
    "def get_soup(url):\n",
    "    re = requests.get(url)\n",
    "    return BeautifulSoup(re.text, features='html.parser')"
   ]
  },
  {
   "cell_type": "code",
   "execution_count": 63,
   "id": "56d38f1f",
   "metadata": {},
   "outputs": [],
   "source": [
    "def get_event_urls(soup):\n",
    "    url_list = []\n",
    "    soup = soup.find_all('section', attrs={'class': 'l-listing--stacked'})[1]\n",
    "    for event in soup.find_all('div', attrs={'class': 'c-card-event--result__info'}):\n",
    "        link = event.find('a').get('href')\n",
    "        url_list.append(link)\n",
    "        \n",
    "    return url_list"
   ]
  },
  {
   "cell_type": "code",
   "execution_count": 64,
   "id": "e28e22f7",
   "metadata": {},
   "outputs": [],
   "source": [
    "def get_fights_url_from_event(soup):\n",
    "    url_list = []\n",
    "    for fight in soup.find_all('div', attrs={'class': 'c-listing-fight'}):\n",
    "        fight_url = fight.get('data-fmid')\n",
    "        url_list.append(fight_url)\n",
    "    \n",
    "    return url_list"
   ]
  },
  {
   "cell_type": "code",
   "execution_count": 67,
   "id": "2f105750",
   "metadata": {},
   "outputs": [],
   "source": [
    "def get_fight_data(soup):\n",
    "    fight_data = []\n",
    "    iframe = soup.find_all('div', attrs={'class': 'details-content__iframe-wrapper'})[0].find('iframe')\n",
    "    print('oi')\n",
    "    print(iframe)\n",
    "#     iframe = soup.find_all('iframe')\n",
    "#     print(iframe)\n",
    "#     response = urlopen(iframe.attrs['src'])\n",
    "#     iframe_soup = BeautifulSoup(response, features='html.parser')\n",
    "#     print(iframe_soup.prettify())\n",
    "#     print(soup.find('div', attrs={'class': 'l-flex__item'}))"
   ]
  },
  {
   "cell_type": "code",
   "execution_count": 68,
   "id": "9f087941",
   "metadata": {},
   "outputs": [
    {
     "name": "stdout",
     "output_type": "stream",
     "text": [
      "['/event/ufc-fight-night-december-17-2022', '/event/ufc-282', '/event/ufc-fight-night-december-03-2022', '/event/ufc-fight-night-november-19-2022', '/event/ufc-281', '/event/ufc-fight-night-november-05-2022', '/event/ufc-fight-night-october-29-2022', '/event/ufc-280']\n",
      "<title>UFC Fight Night: Cannonier vs Strickland | UFC</title>\n",
      "['10131', '10266', '10281', '10263', '10282', '10283', '10272', '10264', '10273', '10237', '10284', '10285', '10271']\n",
      "oi\n",
      "None\n"
     ]
    }
   ],
   "source": [
    "def main():\n",
    "    url = 'https://www.ufc.com/events#events-list-past'\n",
    "    soup = get_soup(url)\n",
    "    event_url_list = get_event_urls(soup)\n",
    "    print(event_url_list)\n",
    "    \n",
    "    for event in event_url_list:\n",
    "        event_url = 'https://www.ufc.com/' + event\n",
    "        event_soup = get_soup(event_url)\n",
    "        fight_url_list = get_fights_url_from_event(event_soup)\n",
    "        \n",
    "        print(event_soup.title)\n",
    "        print(fight_url_list)\n",
    "        \n",
    "        for fight in fight_url_list:\n",
    "            fight_url = event_url + '#' + fight\n",
    "            fight_soup = get_soup(fight_url)\n",
    "            fight_data = get_fight_data(fight_soup)\n",
    "            break\n",
    "        break\n",
    "            \n",
    "            \n",
    "main()"
   ]
  },
  {
   "cell_type": "code",
   "execution_count": null,
   "id": "fb2afe3c",
   "metadata": {},
   "outputs": [],
   "source": []
  }
 ],
 "metadata": {
  "kernelspec": {
   "display_name": "Python 3 (ipykernel)",
   "language": "python",
   "name": "python3"
  },
  "language_info": {
   "codemirror_mode": {
    "name": "ipython",
    "version": 3
   },
   "file_extension": ".py",
   "mimetype": "text/x-python",
   "name": "python",
   "nbconvert_exporter": "python",
   "pygments_lexer": "ipython3",
   "version": "3.9.9"
  }
 },
 "nbformat": 4,
 "nbformat_minor": 5
}
