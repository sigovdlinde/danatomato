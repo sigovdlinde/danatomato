{
 "cells": [
  {
   "cell_type": "code",
   "execution_count": 191,
   "id": "22b92767",
   "metadata": {},
   "outputs": [],
   "source": [
    "import time\n",
    "import pickle\n",
    "\n",
    "import requests\n",
    "from requests.adapters import HTTPAdapter\n",
    "from urllib3.util.retry import Retry\n",
    "from bs4 import BeautifulSoup\n",
    "\n",
    "import plotly.graph_objects as go\n",
    "\n",
    "import pandas as pd\n",
    "\n",
    "from datetime import datetime"
   ]
  },
  {
   "cell_type": "code",
   "execution_count": 100,
   "id": "c7be0bfa",
   "metadata": {},
   "outputs": [],
   "source": [
    "# All_fight_data = [Events] Ordered from old -> new.\n",
    "    # Event = [Fights, Date, Venue]\n",
    "        # Fight = [Fighter1, Fighter2, Result]\n",
    "            # Fighter1, Fighter2 = [Name, Total, Strikes]\n",
    "                # Totals = [Total, First, Second, Third, Fourth, Fifth]\n",
    "                    # Total, First, etc = [Knockdowns, Takedowns, Reversals, Submission Attempted, Control Time]\n",
    "                        # Takedowns = [Landed, Attempted]\n",
    "                # Strikes = [Total, First, Second, Third, Fourth, Fifth]\n",
    "                    # Total, First, etc = [Significant Strikes, Head, Body, Leg, Distance, Clinch, Ground]\n",
    "                        # Everything = [Landed, Attempted]\n",
    "            # Result = [Winner, Method, Round, Time, Referee, Weight, Bonus, Details]"
   ]
  },
  {
   "cell_type": "code",
   "execution_count": 101,
   "id": "61cf9737",
   "metadata": {},
   "outputs": [],
   "source": [
    "def open_data(name):\n",
    "    with open(name, \"rb\") as fp:\n",
    "        return pickle.load(fp)"
   ]
  },
  {
   "cell_type": "code",
   "execution_count": 102,
   "id": "71f9dd3d",
   "metadata": {},
   "outputs": [],
   "source": [
    "def save_data(data, name):\n",
    "    with open(name, \"wb\") as fp:\n",
    "        pickle.dump(data, fp)"
   ]
  },
  {
   "cell_type": "code",
   "execution_count": 150,
   "id": "85e9cf11",
   "metadata": {},
   "outputs": [],
   "source": [
    "all_fight_data = open_data('all_fight_data')"
   ]
  },
  {
   "cell_type": "code",
   "execution_count": 151,
   "id": "7d574945",
   "metadata": {},
   "outputs": [],
   "source": [
    "def all_fighter_names(data):\n",
    "    all_names = []\n",
    "    for event in data:\n",
    "        for fight in event[0]:\n",
    "            if fight[0][0] not in all_names:\n",
    "                all_names.append(fight[0][0])\n",
    "                \n",
    "            if fight[1][0] not in all_names:\n",
    "                all_names.append(fight[1][0])\n",
    "    return all_names"
   ]
  },
  {
   "cell_type": "code",
   "execution_count": 157,
   "id": "e05a7322",
   "metadata": {},
   "outputs": [],
   "source": [
    "def all_referee_names(data):\n",
    "    all_names = []\n",
    "    for event in data:\n",
    "        for fight in event[0]:\n",
    "            if fight[2][4] not in all_names:\n",
    "                all_names.append(fight[2][4])\n",
    "    \n",
    "    return all_names"
   ]
  },
  {
   "cell_type": "code",
   "execution_count": 195,
   "id": "228aca70",
   "metadata": {},
   "outputs": [],
   "source": [
    "def convert_date(date):\n",
    "    months = ['January', 'February', 'March', 'April', 'May', 'June', 'July', 'August', 'September', 'October', 'November', 'December']\n",
    "    month = date.split(' ')[0]\n",
    "    month = months.index(month) + 1\n",
    "    \n",
    "    day = int(date.split(',')[0].split(' ')[1])\n",
    "    year = int(date.split(', ')[1])\n",
    "    date = datetime(year, month, day)\n",
    "    return date"
   ]
  },
  {
   "cell_type": "code",
   "execution_count": 221,
   "id": "40707754",
   "metadata": {},
   "outputs": [],
   "source": [
    "def bar_data(data, group):\n",
    "    # [name, ko, submission, decision, finish]\n",
    "    if group == 'Fighters':\n",
    "        return []\n",
    "    else:\n",
    "        all_r_names = all_referee_names(data)\n",
    "        all_data = [[all_r_names[i], 0, 0, 0, 0] for i in range(len(all_r_names))]\n",
    "        \n",
    "        for event in data:\n",
    "            for fight in event[0]:\n",
    "                name_index = all_r_names.index(fight[2][4])\n",
    "                    \n",
    "                if fight[2][1] == 'KO/TKO':\n",
    "                    all_data[name_index][1] += 1\n",
    "                    all_data[name_index][4] += 1\n",
    "                elif fight[2][1] == 'Submission':\n",
    "                    all_data[name_index][2] += 1\n",
    "                    all_data[name_index][4] += 1\n",
    "                else:\n",
    "                    all_data[name_index][3] += 1\n",
    "                    all_data[name_index][4] -= 1\n",
    "                    \n",
    "\n",
    "    return all_data\n",
    "\n",
    "b_data = bar_data(all_fight_data, 'Referees')\n",
    "df = pd.DataFrame(b_data)"
   ]
  },
  {
   "cell_type": "code",
   "execution_count": 228,
   "id": "05a0f74a",
   "metadata": {},
   "outputs": [
    {
     "data": {
      "text/html": [
       "<div>\n",
       "<style scoped>\n",
       "    .dataframe tbody tr th:only-of-type {\n",
       "        vertical-align: middle;\n",
       "    }\n",
       "\n",
       "    .dataframe tbody tr th {\n",
       "        vertical-align: top;\n",
       "    }\n",
       "\n",
       "    .dataframe thead th {\n",
       "        text-align: right;\n",
       "    }\n",
       "</style>\n",
       "<table border=\"1\" class=\"dataframe\">\n",
       "  <thead>\n",
       "    <tr style=\"text-align: right;\">\n",
       "      <th></th>\n",
       "      <th>0</th>\n",
       "      <th>1</th>\n",
       "    </tr>\n",
       "  </thead>\n",
       "  <tbody>\n",
       "    <tr>\n",
       "      <th>16</th>\n",
       "      <td>Herb Dean</td>\n",
       "      <td>361</td>\n",
       "    </tr>\n",
       "    <tr>\n",
       "      <th>0</th>\n",
       "      <td>John McCarthy</td>\n",
       "      <td>240</td>\n",
       "    </tr>\n",
       "    <tr>\n",
       "      <th>23</th>\n",
       "      <td>Dan Miragliotta</td>\n",
       "      <td>162</td>\n",
       "    </tr>\n",
       "    <tr>\n",
       "      <th>5</th>\n",
       "      <td>Mario Yamasaki</td>\n",
       "      <td>127</td>\n",
       "    </tr>\n",
       "    <tr>\n",
       "      <th>35</th>\n",
       "      <td>Marc Goddard</td>\n",
       "      <td>126</td>\n",
       "    </tr>\n",
       "    <tr>\n",
       "      <th>...</th>\n",
       "      <td>...</td>\n",
       "      <td>...</td>\n",
       "    </tr>\n",
       "    <tr>\n",
       "      <th>134</th>\n",
       "      <td>David Ferguson</td>\n",
       "      <td>0</td>\n",
       "    </tr>\n",
       "    <tr>\n",
       "      <th>34</th>\n",
       "      <td>Jim Axtel</td>\n",
       "      <td>0</td>\n",
       "    </tr>\n",
       "    <tr>\n",
       "      <th>136</th>\n",
       "      <td>Joe Solis</td>\n",
       "      <td>0</td>\n",
       "    </tr>\n",
       "    <tr>\n",
       "      <th>31</th>\n",
       "      <td>Nick Gamst</td>\n",
       "      <td>0</td>\n",
       "    </tr>\n",
       "    <tr>\n",
       "      <th>84</th>\n",
       "      <td>Marko Gyllenland</td>\n",
       "      <td>0</td>\n",
       "    </tr>\n",
       "  </tbody>\n",
       "</table>\n",
       "<p>211 rows × 2 columns</p>\n",
       "</div>"
      ],
      "text/plain": [
       "                    0    1\n",
       "16          Herb Dean  361\n",
       "0       John McCarthy  240\n",
       "23    Dan Miragliotta  162\n",
       "5      Mario Yamasaki  127\n",
       "35       Marc Goddard  126\n",
       "..                ...  ...\n",
       "134    David Ferguson    0\n",
       "34          Jim Axtel    0\n",
       "136         Joe Solis    0\n",
       "31         Nick Gamst    0\n",
       "84   Marko Gyllenland    0\n",
       "\n",
       "[211 rows x 2 columns]"
      ]
     },
     "execution_count": 228,
     "metadata": {},
     "output_type": "execute_result"
    }
   ],
   "source": [
    "df[[0,1]].sort_values(1)[::-1]"
   ]
  },
  {
   "cell_type": "code",
   "execution_count": null,
   "id": "56b32e13",
   "metadata": {},
   "outputs": [],
   "source": []
  }
 ],
 "metadata": {
  "kernelspec": {
   "display_name": "Python 3 (ipykernel)",
   "language": "python",
   "name": "python3"
  },
  "language_info": {
   "codemirror_mode": {
    "name": "ipython",
    "version": 3
   },
   "file_extension": ".py",
   "mimetype": "text/x-python",
   "name": "python",
   "nbconvert_exporter": "python",
   "pygments_lexer": "ipython3",
   "version": "3.9.9"
  }
 },
 "nbformat": 4,
 "nbformat_minor": 5
}
